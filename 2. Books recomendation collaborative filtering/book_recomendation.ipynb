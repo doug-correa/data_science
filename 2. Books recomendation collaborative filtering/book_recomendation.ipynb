{
 "cells": [
  {
   "cell_type": "markdown",
   "id": "8db67f58-85f8-4f2a-9476-46e32ff9087f",
   "metadata": {
    "tags": []
   },
   "source": [
    "# Book recomendation collaborative filtering"
   ]
  },
  {
   "cell_type": "code",
   "execution_count": 1,
   "id": "15c09a3b-5058-4439-9462-61b2dc94833d",
   "metadata": {
    "tags": []
   },
   "outputs": [],
   "source": [
    "# Importing libraries\n",
    "import pandas as pd\n",
    "import numpy as np\n",
    "from sklearn.preprocessing import LabelEncoder\n",
    "from sklearn.metrics.pairwise import cosine_similarity"
   ]
  },
  {
   "cell_type": "markdown",
   "id": "cd6f363d-05a0-42ea-9a76-33f7016cf4cd",
   "metadata": {
    "tags": []
   },
   "source": [
    "### Reading the data\n",
    "\n",
    "Dataset avaible [here](https://www.kaggle.com/datasets/arashnic/book-recommendation-dataset)\n",
    "\n",
    "When reading the data, I chose to exclude any row or column that had any 'null' entry."
   ]
  },
  {
   "cell_type": "code",
   "execution_count": 2,
   "id": "f5ab76dd-eda8-4c0b-8f6b-52a1af17325c",
   "metadata": {
    "tags": []
   },
   "outputs": [],
   "source": [
    "# Reading data\n",
    "books = pd.read_csv('books.csv', encoding='latin-1', delimiter=';').dropna()\n",
    "ratings = pd.read_csv('ratings.csv', encoding='latin-1', delimiter=';').dropna()"
   ]
  },
  {
   "cell_type": "code",
   "execution_count": 3,
   "id": "c61e22da-6c70-4bf7-af83-6d9bafc75bda",
   "metadata": {
    "tags": []
   },
   "outputs": [
    {
     "data": {
      "text/html": [
       "<div>\n",
       "<style scoped>\n",
       "    .dataframe tbody tr th:only-of-type {\n",
       "        vertical-align: middle;\n",
       "    }\n",
       "\n",
       "    .dataframe tbody tr th {\n",
       "        vertical-align: top;\n",
       "    }\n",
       "\n",
       "    .dataframe thead th {\n",
       "        text-align: right;\n",
       "    }\n",
       "</style>\n",
       "<table border=\"1\" class=\"dataframe\">\n",
       "  <thead>\n",
       "    <tr style=\"text-align: right;\">\n",
       "      <th></th>\n",
       "      <th>ISBN</th>\n",
       "      <th>Book-Title</th>\n",
       "      <th>Book-Author</th>\n",
       "      <th>Year-Of-Publication</th>\n",
       "      <th>Publisher</th>\n",
       "      <th>Image-URL-S</th>\n",
       "      <th>Image-URL-M</th>\n",
       "      <th>Image-URL-L</th>\n",
       "    </tr>\n",
       "  </thead>\n",
       "  <tbody>\n",
       "    <tr>\n",
       "      <th>0</th>\n",
       "      <td>0195153448</td>\n",
       "      <td>Classical Mythology</td>\n",
       "      <td>Mark P. O. Morford</td>\n",
       "      <td>2002</td>\n",
       "      <td>Oxford University Press</td>\n",
       "      <td>http://images.amazon.com/images/P/0195153448.0...</td>\n",
       "      <td>http://images.amazon.com/images/P/0195153448.0...</td>\n",
       "      <td>http://images.amazon.com/images/P/0195153448.0...</td>\n",
       "    </tr>\n",
       "    <tr>\n",
       "      <th>1</th>\n",
       "      <td>0002005018</td>\n",
       "      <td>Clara Callan</td>\n",
       "      <td>Richard Bruce Wright</td>\n",
       "      <td>2001</td>\n",
       "      <td>HarperFlamingo Canada</td>\n",
       "      <td>http://images.amazon.com/images/P/0002005018.0...</td>\n",
       "      <td>http://images.amazon.com/images/P/0002005018.0...</td>\n",
       "      <td>http://images.amazon.com/images/P/0002005018.0...</td>\n",
       "    </tr>\n",
       "    <tr>\n",
       "      <th>2</th>\n",
       "      <td>0060973129</td>\n",
       "      <td>Decision in Normandy</td>\n",
       "      <td>Carlo D'Este</td>\n",
       "      <td>1991</td>\n",
       "      <td>HarperPerennial</td>\n",
       "      <td>http://images.amazon.com/images/P/0060973129.0...</td>\n",
       "      <td>http://images.amazon.com/images/P/0060973129.0...</td>\n",
       "      <td>http://images.amazon.com/images/P/0060973129.0...</td>\n",
       "    </tr>\n",
       "    <tr>\n",
       "      <th>3</th>\n",
       "      <td>0374157065</td>\n",
       "      <td>Flu: The Story of the Great Influenza Pandemic...</td>\n",
       "      <td>Gina Bari Kolata</td>\n",
       "      <td>1999</td>\n",
       "      <td>Farrar Straus Giroux</td>\n",
       "      <td>http://images.amazon.com/images/P/0374157065.0...</td>\n",
       "      <td>http://images.amazon.com/images/P/0374157065.0...</td>\n",
       "      <td>http://images.amazon.com/images/P/0374157065.0...</td>\n",
       "    </tr>\n",
       "    <tr>\n",
       "      <th>4</th>\n",
       "      <td>0393045218</td>\n",
       "      <td>The Mummies of Urumchi</td>\n",
       "      <td>E. J. W. Barber</td>\n",
       "      <td>1999</td>\n",
       "      <td>W. W. Norton &amp; Company</td>\n",
       "      <td>http://images.amazon.com/images/P/0393045218.0...</td>\n",
       "      <td>http://images.amazon.com/images/P/0393045218.0...</td>\n",
       "      <td>http://images.amazon.com/images/P/0393045218.0...</td>\n",
       "    </tr>\n",
       "  </tbody>\n",
       "</table>\n",
       "</div>"
      ],
      "text/plain": [
       "         ISBN                                         Book-Title  \\\n",
       "0  0195153448                                Classical Mythology   \n",
       "1  0002005018                                       Clara Callan   \n",
       "2  0060973129                               Decision in Normandy   \n",
       "3  0374157065  Flu: The Story of the Great Influenza Pandemic...   \n",
       "4  0393045218                             The Mummies of Urumchi   \n",
       "\n",
       "            Book-Author  Year-Of-Publication                Publisher  \\\n",
       "0    Mark P. O. Morford                 2002  Oxford University Press   \n",
       "1  Richard Bruce Wright                 2001    HarperFlamingo Canada   \n",
       "2          Carlo D'Este                 1991          HarperPerennial   \n",
       "3      Gina Bari Kolata                 1999     Farrar Straus Giroux   \n",
       "4       E. J. W. Barber                 1999   W. W. Norton & Company   \n",
       "\n",
       "                                         Image-URL-S  \\\n",
       "0  http://images.amazon.com/images/P/0195153448.0...   \n",
       "1  http://images.amazon.com/images/P/0002005018.0...   \n",
       "2  http://images.amazon.com/images/P/0060973129.0...   \n",
       "3  http://images.amazon.com/images/P/0374157065.0...   \n",
       "4  http://images.amazon.com/images/P/0393045218.0...   \n",
       "\n",
       "                                         Image-URL-M  \\\n",
       "0  http://images.amazon.com/images/P/0195153448.0...   \n",
       "1  http://images.amazon.com/images/P/0002005018.0...   \n",
       "2  http://images.amazon.com/images/P/0060973129.0...   \n",
       "3  http://images.amazon.com/images/P/0374157065.0...   \n",
       "4  http://images.amazon.com/images/P/0393045218.0...   \n",
       "\n",
       "                                         Image-URL-L  \n",
       "0  http://images.amazon.com/images/P/0195153448.0...  \n",
       "1  http://images.amazon.com/images/P/0002005018.0...  \n",
       "2  http://images.amazon.com/images/P/0060973129.0...  \n",
       "3  http://images.amazon.com/images/P/0374157065.0...  \n",
       "4  http://images.amazon.com/images/P/0393045218.0...  "
      ]
     },
     "execution_count": 3,
     "metadata": {},
     "output_type": "execute_result"
    }
   ],
   "source": [
    "books.head(5)"
   ]
  },
  {
   "cell_type": "code",
   "execution_count": 4,
   "id": "9db8520d-b834-439a-a7fa-23768ae8a736",
   "metadata": {
    "tags": []
   },
   "outputs": [
    {
     "name": "stdout",
     "output_type": "stream",
     "text": [
      "<class 'pandas.core.frame.DataFrame'>\n",
      "Int64Index: 271376 entries, 0 to 271378\n",
      "Data columns (total 8 columns):\n",
      " #   Column               Non-Null Count   Dtype \n",
      "---  ------               --------------   ----- \n",
      " 0   ISBN                 271376 non-null  object\n",
      " 1   Book-Title           271376 non-null  object\n",
      " 2   Book-Author          271376 non-null  object\n",
      " 3   Year-Of-Publication  271376 non-null  int64 \n",
      " 4   Publisher            271376 non-null  object\n",
      " 5   Image-URL-S          271376 non-null  object\n",
      " 6   Image-URL-M          271376 non-null  object\n",
      " 7   Image-URL-L          271376 non-null  object\n",
      "dtypes: int64(1), object(7)\n",
      "memory usage: 18.6+ MB\n"
     ]
    }
   ],
   "source": [
    "books.info()"
   ]
  },
  {
   "cell_type": "code",
   "execution_count": 5,
   "id": "0176eb0c-864d-4638-9d2d-e725a2b68c2f",
   "metadata": {
    "tags": []
   },
   "outputs": [
    {
     "data": {
      "text/html": [
       "<div>\n",
       "<style scoped>\n",
       "    .dataframe tbody tr th:only-of-type {\n",
       "        vertical-align: middle;\n",
       "    }\n",
       "\n",
       "    .dataframe tbody tr th {\n",
       "        vertical-align: top;\n",
       "    }\n",
       "\n",
       "    .dataframe thead th {\n",
       "        text-align: right;\n",
       "    }\n",
       "</style>\n",
       "<table border=\"1\" class=\"dataframe\">\n",
       "  <thead>\n",
       "    <tr style=\"text-align: right;\">\n",
       "      <th></th>\n",
       "      <th>User-ID</th>\n",
       "      <th>ISBN</th>\n",
       "      <th>Book-Rating</th>\n",
       "    </tr>\n",
       "  </thead>\n",
       "  <tbody>\n",
       "    <tr>\n",
       "      <th>0</th>\n",
       "      <td>276725</td>\n",
       "      <td>034545104X</td>\n",
       "      <td>0</td>\n",
       "    </tr>\n",
       "    <tr>\n",
       "      <th>1</th>\n",
       "      <td>276726</td>\n",
       "      <td>0155061224</td>\n",
       "      <td>5</td>\n",
       "    </tr>\n",
       "    <tr>\n",
       "      <th>2</th>\n",
       "      <td>276727</td>\n",
       "      <td>0446520802</td>\n",
       "      <td>0</td>\n",
       "    </tr>\n",
       "    <tr>\n",
       "      <th>3</th>\n",
       "      <td>276729</td>\n",
       "      <td>052165615X</td>\n",
       "      <td>3</td>\n",
       "    </tr>\n",
       "    <tr>\n",
       "      <th>4</th>\n",
       "      <td>276729</td>\n",
       "      <td>0521795028</td>\n",
       "      <td>6</td>\n",
       "    </tr>\n",
       "  </tbody>\n",
       "</table>\n",
       "</div>"
      ],
      "text/plain": [
       "   User-ID        ISBN  Book-Rating\n",
       "0   276725  034545104X            0\n",
       "1   276726  0155061224            5\n",
       "2   276727  0446520802            0\n",
       "3   276729  052165615X            3\n",
       "4   276729  0521795028            6"
      ]
     },
     "execution_count": 5,
     "metadata": {},
     "output_type": "execute_result"
    }
   ],
   "source": [
    "ratings.head()"
   ]
  },
  {
   "cell_type": "code",
   "execution_count": 6,
   "id": "d9597a53-2c58-425c-b2bf-f22442f773df",
   "metadata": {
    "tags": []
   },
   "outputs": [
    {
     "name": "stdout",
     "output_type": "stream",
     "text": [
      "<class 'pandas.core.frame.DataFrame'>\n",
      "RangeIndex: 1149790 entries, 0 to 1149789\n",
      "Data columns (total 3 columns):\n",
      " #   Column       Non-Null Count    Dtype \n",
      "---  ------       --------------    ----- \n",
      " 0   User-ID      1149790 non-null  int64 \n",
      " 1   ISBN         1149790 non-null  object\n",
      " 2   Book-Rating  1149790 non-null  int64 \n",
      "dtypes: int64(2), object(1)\n",
      "memory usage: 26.3+ MB\n"
     ]
    }
   ],
   "source": [
    "ratings.info()"
   ]
  },
  {
   "cell_type": "markdown",
   "id": "e1ffa49f-51cc-4d4b-a093-8fd95403b3b9",
   "metadata": {},
   "source": [
    "### Book codes\n",
    "\n",
    "It was necessary to create unique codes for books since the same book can have different ISBN codes for different publications."
   ]
  },
  {
   "cell_type": "code",
   "execution_count": 7,
   "id": "69f63e59-1d03-4bbe-bb80-e12bcadf5709",
   "metadata": {
    "tags": []
   },
   "outputs": [],
   "source": [
    "# Creating a unique code for books with the same title + author even if they have different ISBN\n",
    "label_encoder = LabelEncoder()\n",
    "books['Book-Code'] = books['Book-Title'] + ' - ' + books['Book-Author']\n",
    "books['Book-Code'] = label_encoder.fit_transform(books['Book-Code'])\n",
    "books['Book-Code'] = books['Book-Code'].astype(int)"
   ]
  },
  {
   "cell_type": "code",
   "execution_count": 8,
   "id": "24475fb2-17b7-4a6e-b2a6-dc0295560b0f",
   "metadata": {
    "tags": []
   },
   "outputs": [],
   "source": [
    "# Merging books information inside ratings dataframe, filtering columns and ratings with '0' value\n",
    "ratings = ratings.merge(books[['ISBN', 'Book-Code']], on='ISBN', how='inner').dropna()\n",
    "ratings['Book-Code'] = ratings['Book-Code'].astype(int)\n",
    "ratings = ratings[['User-ID', 'Book-Code', 'Book-Rating']]\n",
    "ratings = ratings[ratings['Book-Rating'] != 0]"
   ]
  },
  {
   "cell_type": "code",
   "execution_count": 9,
   "id": "4b3031d9-202c-4391-9d53-d902fdeb4432",
   "metadata": {
    "tags": []
   },
   "outputs": [
    {
     "data": {
      "text/html": [
       "<div>\n",
       "<style scoped>\n",
       "    .dataframe tbody tr th:only-of-type {\n",
       "        vertical-align: middle;\n",
       "    }\n",
       "\n",
       "    .dataframe tbody tr th {\n",
       "        vertical-align: top;\n",
       "    }\n",
       "\n",
       "    .dataframe thead th {\n",
       "        text-align: right;\n",
       "    }\n",
       "</style>\n",
       "<table border=\"1\" class=\"dataframe\">\n",
       "  <thead>\n",
       "    <tr style=\"text-align: right;\">\n",
       "      <th></th>\n",
       "      <th>User-ID</th>\n",
       "      <th>Book-Code</th>\n",
       "      <th>Book-Rating</th>\n",
       "    </tr>\n",
       "  </thead>\n",
       "  <tbody>\n",
       "    <tr>\n",
       "      <th>1</th>\n",
       "      <td>2313</td>\n",
       "      <td>70720</td>\n",
       "      <td>5</td>\n",
       "    </tr>\n",
       "    <tr>\n",
       "      <th>3</th>\n",
       "      <td>8680</td>\n",
       "      <td>70720</td>\n",
       "      <td>5</td>\n",
       "    </tr>\n",
       "    <tr>\n",
       "      <th>4</th>\n",
       "      <td>10314</td>\n",
       "      <td>70720</td>\n",
       "      <td>9</td>\n",
       "    </tr>\n",
       "    <tr>\n",
       "      <th>9</th>\n",
       "      <td>50403</td>\n",
       "      <td>70720</td>\n",
       "      <td>9</td>\n",
       "    </tr>\n",
       "    <tr>\n",
       "      <th>13</th>\n",
       "      <td>63970</td>\n",
       "      <td>70720</td>\n",
       "      <td>8</td>\n",
       "    </tr>\n",
       "  </tbody>\n",
       "</table>\n",
       "</div>"
      ],
      "text/plain": [
       "    User-ID  Book-Code  Book-Rating\n",
       "1      2313      70720            5\n",
       "3      8680      70720            5\n",
       "4     10314      70720            9\n",
       "9     50403      70720            9\n",
       "13    63970      70720            8"
      ]
     },
     "execution_count": 9,
     "metadata": {},
     "output_type": "execute_result"
    }
   ],
   "source": [
    "ratings.head()"
   ]
  },
  {
   "cell_type": "code",
   "execution_count": 10,
   "id": "1b9124aa-99ac-45cc-a73a-1c71f99f4106",
   "metadata": {
    "tags": []
   },
   "outputs": [
    {
     "name": "stdout",
     "output_type": "stream",
     "text": [
      "<class 'pandas.core.frame.DataFrame'>\n",
      "Int64Index: 383859 entries, 1 to 1031181\n",
      "Data columns (total 3 columns):\n",
      " #   Column       Non-Null Count   Dtype\n",
      "---  ------       --------------   -----\n",
      " 0   User-ID      383859 non-null  int64\n",
      " 1   Book-Code    383859 non-null  int32\n",
      " 2   Book-Rating  383859 non-null  int64\n",
      "dtypes: int32(1), int64(2)\n",
      "memory usage: 10.3 MB\n"
     ]
    }
   ],
   "source": [
    "ratings.info()"
   ]
  },
  {
   "cell_type": "markdown",
   "id": "d0ad383d-0f00-45b0-b549-6316bf25d880",
   "metadata": {
    "tags": []
   },
   "source": [
    "### Aggregating data\n",
    "\n",
    "To make the calculation manageable for computer memory, I filtered only books that have more than 50 ratings."
   ]
  },
  {
   "cell_type": "code",
   "execution_count": 11,
   "id": "fc0812eb-5861-4f8a-b948-d92f3a746800",
   "metadata": {},
   "outputs": [],
   "source": [
    "# Creating an aggregation by book-code and filter books with over than 50 ratings\n",
    "agg_ratings = ratings.groupby(['Book-Code']).agg(mean = ('Book-Rating', 'mean'), count = ('Book-Rating', 'count')).reset_index()\n",
    "agg_ratings = agg_ratings[agg_ratings['count'] > 50]"
   ]
  },
  {
   "cell_type": "code",
   "execution_count": 12,
   "id": "a26acb2c-839c-4b0c-9b00-7cfaeba00243",
   "metadata": {
    "tags": []
   },
   "outputs": [
    {
     "data": {
      "text/html": [
       "<div>\n",
       "<style scoped>\n",
       "    .dataframe tbody tr th:only-of-type {\n",
       "        vertical-align: middle;\n",
       "    }\n",
       "\n",
       "    .dataframe tbody tr th {\n",
       "        vertical-align: top;\n",
       "    }\n",
       "\n",
       "    .dataframe thead th {\n",
       "        text-align: right;\n",
       "    }\n",
       "</style>\n",
       "<table border=\"1\" class=\"dataframe\">\n",
       "  <thead>\n",
       "    <tr style=\"text-align: right;\">\n",
       "      <th></th>\n",
       "      <th>Book-Code</th>\n",
       "      <th>mean</th>\n",
       "      <th>count</th>\n",
       "    </tr>\n",
       "  </thead>\n",
       "  <tbody>\n",
       "    <tr>\n",
       "      <th>113602</th>\n",
       "      <td>204705</td>\n",
       "      <td>8.185290</td>\n",
       "      <td>707</td>\n",
       "    </tr>\n",
       "    <tr>\n",
       "      <th>136239</th>\n",
       "      <td>244844</td>\n",
       "      <td>4.390706</td>\n",
       "      <td>581</td>\n",
       "    </tr>\n",
       "    <tr>\n",
       "      <th>105814</th>\n",
       "      <td>191383</td>\n",
       "      <td>8.438525</td>\n",
       "      <td>488</td>\n",
       "    </tr>\n",
       "    <tr>\n",
       "      <th>119754</th>\n",
       "      <td>215289</td>\n",
       "      <td>8.477833</td>\n",
       "      <td>406</td>\n",
       "    </tr>\n",
       "    <tr>\n",
       "      <th>115356</th>\n",
       "      <td>207703</td>\n",
       "      <td>7.437659</td>\n",
       "      <td>393</td>\n",
       "    </tr>\n",
       "  </tbody>\n",
       "</table>\n",
       "</div>"
      ],
      "text/plain": [
       "        Book-Code      mean  count\n",
       "113602     204705  8.185290    707\n",
       "136239     244844  4.390706    581\n",
       "105814     191383  8.438525    488\n",
       "119754     215289  8.477833    406\n",
       "115356     207703  7.437659    393"
      ]
     },
     "execution_count": 12,
     "metadata": {},
     "output_type": "execute_result"
    }
   ],
   "source": [
    "# These are the most rated books\n",
    "agg_ratings.sort_values(by='count', ascending=False).head()"
   ]
  },
  {
   "cell_type": "code",
   "execution_count": 13,
   "id": "90513adf-2bbd-4b11-a77e-aaa5aa16d241",
   "metadata": {
    "tags": []
   },
   "outputs": [],
   "source": [
    "# Merging all data\n",
    "df = pd.merge(ratings, agg_ratings[['Book-Code']], on='Book-Code', how='inner')"
   ]
  },
  {
   "cell_type": "code",
   "execution_count": 14,
   "id": "790423c2-d97f-4bf3-8ddf-9bdc908f4173",
   "metadata": {
    "tags": []
   },
   "outputs": [
    {
     "data": {
      "text/html": [
       "<div>\n",
       "<style scoped>\n",
       "    .dataframe tbody tr th:only-of-type {\n",
       "        vertical-align: middle;\n",
       "    }\n",
       "\n",
       "    .dataframe tbody tr th {\n",
       "        vertical-align: top;\n",
       "    }\n",
       "\n",
       "    .dataframe thead th {\n",
       "        text-align: right;\n",
       "    }\n",
       "</style>\n",
       "<table border=\"1\" class=\"dataframe\">\n",
       "  <thead>\n",
       "    <tr style=\"text-align: right;\">\n",
       "      <th></th>\n",
       "      <th>User-ID</th>\n",
       "      <th>Book-Code</th>\n",
       "      <th>Book-Rating</th>\n",
       "    </tr>\n",
       "  </thead>\n",
       "  <tbody>\n",
       "    <tr>\n",
       "      <th>0</th>\n",
       "      <td>7158</td>\n",
       "      <td>208753</td>\n",
       "      <td>10</td>\n",
       "    </tr>\n",
       "    <tr>\n",
       "      <th>1</th>\n",
       "      <td>8253</td>\n",
       "      <td>208753</td>\n",
       "      <td>10</td>\n",
       "    </tr>\n",
       "    <tr>\n",
       "      <th>2</th>\n",
       "      <td>11676</td>\n",
       "      <td>208753</td>\n",
       "      <td>10</td>\n",
       "    </tr>\n",
       "    <tr>\n",
       "      <th>3</th>\n",
       "      <td>12589</td>\n",
       "      <td>208753</td>\n",
       "      <td>9</td>\n",
       "    </tr>\n",
       "    <tr>\n",
       "      <th>4</th>\n",
       "      <td>13279</td>\n",
       "      <td>208753</td>\n",
       "      <td>10</td>\n",
       "    </tr>\n",
       "  </tbody>\n",
       "</table>\n",
       "</div>"
      ],
      "text/plain": [
       "   User-ID  Book-Code  Book-Rating\n",
       "0     7158     208753           10\n",
       "1     8253     208753           10\n",
       "2    11676     208753           10\n",
       "3    12589     208753            9\n",
       "4    13279     208753           10"
      ]
     },
     "execution_count": 14,
     "metadata": {},
     "output_type": "execute_result"
    }
   ],
   "source": [
    "df.head()"
   ]
  },
  {
   "cell_type": "code",
   "execution_count": 15,
   "id": "2482aac8-d20f-4f66-aee3-3651251b1b8c",
   "metadata": {
    "tags": []
   },
   "outputs": [
    {
     "name": "stdout",
     "output_type": "stream",
     "text": [
      "<class 'pandas.core.frame.DataFrame'>\n",
      "Int64Index: 61445 entries, 0 to 61444\n",
      "Data columns (total 3 columns):\n",
      " #   Column       Non-Null Count  Dtype\n",
      "---  ------       --------------  -----\n",
      " 0   User-ID      61445 non-null  int64\n",
      " 1   Book-Code    61445 non-null  int32\n",
      " 2   Book-Rating  61445 non-null  int64\n",
      "dtypes: int32(1), int64(2)\n",
      "memory usage: 1.6 MB\n"
     ]
    }
   ],
   "source": [
    "df.info()"
   ]
  },
  {
   "cell_type": "code",
   "execution_count": 16,
   "id": "f52b60e2-dd15-442f-88a2-09abb1068690",
   "metadata": {},
   "outputs": [],
   "source": [
    "# Chosing a user ID\n",
    "user_id = 7158"
   ]
  },
  {
   "cell_type": "code",
   "execution_count": 17,
   "id": "3e476e9f-776d-45cc-9f60-763aca20efd5",
   "metadata": {
    "tags": []
   },
   "outputs": [
    {
     "data": {
      "text/html": [
       "<div>\n",
       "<style scoped>\n",
       "    .dataframe tbody tr th:only-of-type {\n",
       "        vertical-align: middle;\n",
       "    }\n",
       "\n",
       "    .dataframe tbody tr th {\n",
       "        vertical-align: top;\n",
       "    }\n",
       "\n",
       "    .dataframe thead th {\n",
       "        text-align: right;\n",
       "    }\n",
       "</style>\n",
       "<table border=\"1\" class=\"dataframe\">\n",
       "  <thead>\n",
       "    <tr style=\"text-align: right;\">\n",
       "      <th></th>\n",
       "      <th>User-ID</th>\n",
       "      <th>Book-Code</th>\n",
       "      <th>Book-Rating</th>\n",
       "      <th>Book-Title</th>\n",
       "      <th>Book-Author</th>\n",
       "    </tr>\n",
       "  </thead>\n",
       "  <tbody>\n",
       "    <tr>\n",
       "      <th>0</th>\n",
       "      <td>7158</td>\n",
       "      <td>208753</td>\n",
       "      <td>10</td>\n",
       "      <td>The Notebook</td>\n",
       "      <td>Nicholas Sparks</td>\n",
       "    </tr>\n",
       "    <tr>\n",
       "      <th>1</th>\n",
       "      <td>7158</td>\n",
       "      <td>208753</td>\n",
       "      <td>10</td>\n",
       "      <td>The Notebook</td>\n",
       "      <td>Nicholas Sparks</td>\n",
       "    </tr>\n",
       "    <tr>\n",
       "      <th>2</th>\n",
       "      <td>7158</td>\n",
       "      <td>158069</td>\n",
       "      <td>8</td>\n",
       "      <td>Roses Are Red (Alex Cross Novels)</td>\n",
       "      <td>James Patterson</td>\n",
       "    </tr>\n",
       "    <tr>\n",
       "      <th>3</th>\n",
       "      <td>7158</td>\n",
       "      <td>237393</td>\n",
       "      <td>5</td>\n",
       "      <td>Violets Are Blue</td>\n",
       "      <td>James Patterson</td>\n",
       "    </tr>\n",
       "    <tr>\n",
       "      <th>4</th>\n",
       "      <td>7158</td>\n",
       "      <td>57704</td>\n",
       "      <td>1</td>\n",
       "      <td>Dreamcatcher</td>\n",
       "      <td>Stephen King</td>\n",
       "    </tr>\n",
       "    <tr>\n",
       "      <th>5</th>\n",
       "      <td>7158</td>\n",
       "      <td>159263</td>\n",
       "      <td>9</td>\n",
       "      <td>SHIPPING NEWS</td>\n",
       "      <td>Annie Proulx</td>\n",
       "    </tr>\n",
       "    <tr>\n",
       "      <th>6</th>\n",
       "      <td>7158</td>\n",
       "      <td>7574</td>\n",
       "      <td>9</td>\n",
       "      <td>A Walk to Remember</td>\n",
       "      <td>Nicholas Sparks</td>\n",
       "    </tr>\n",
       "    <tr>\n",
       "      <th>7</th>\n",
       "      <td>7158</td>\n",
       "      <td>30786</td>\n",
       "      <td>7</td>\n",
       "      <td>By the Light of the Moon</td>\n",
       "      <td>DEAN KOONTZ</td>\n",
       "    </tr>\n",
       "    <tr>\n",
       "      <th>8</th>\n",
       "      <td>7158</td>\n",
       "      <td>243199</td>\n",
       "      <td>8</td>\n",
       "      <td>Where the Heart Is (Oprah's Book Club (Paperba...</td>\n",
       "      <td>Billie Letts</td>\n",
       "    </tr>\n",
       "    <tr>\n",
       "      <th>9</th>\n",
       "      <td>7158</td>\n",
       "      <td>96938</td>\n",
       "      <td>10</td>\n",
       "      <td>Intensity</td>\n",
       "      <td>DEAN KOONTZ</td>\n",
       "    </tr>\n",
       "    <tr>\n",
       "      <th>10</th>\n",
       "      <td>7158</td>\n",
       "      <td>26017</td>\n",
       "      <td>4</td>\n",
       "      <td>Blessings</td>\n",
       "      <td>ANNA QUINDLEN</td>\n",
       "    </tr>\n",
       "    <tr>\n",
       "      <th>11</th>\n",
       "      <td>7158</td>\n",
       "      <td>198573</td>\n",
       "      <td>10</td>\n",
       "      <td>The Guardian</td>\n",
       "      <td>Nicholas Sparks</td>\n",
       "    </tr>\n",
       "    <tr>\n",
       "      <th>12</th>\n",
       "      <td>7158</td>\n",
       "      <td>93555</td>\n",
       "      <td>9</td>\n",
       "      <td>Icy Sparks</td>\n",
       "      <td>Gwyn Hyman Rubio</td>\n",
       "    </tr>\n",
       "    <tr>\n",
       "      <th>13</th>\n",
       "      <td>7158</td>\n",
       "      <td>177427</td>\n",
       "      <td>8</td>\n",
       "      <td>Suzanne's Diary for Nicholas</td>\n",
       "      <td>James Patterson</td>\n",
       "    </tr>\n",
       "    <tr>\n",
       "      <th>14</th>\n",
       "      <td>7158</td>\n",
       "      <td>213255</td>\n",
       "      <td>9</td>\n",
       "      <td>The Rescue</td>\n",
       "      <td>Nicholas Sparks</td>\n",
       "    </tr>\n",
       "    <tr>\n",
       "      <th>15</th>\n",
       "      <td>7158</td>\n",
       "      <td>100421</td>\n",
       "      <td>8</td>\n",
       "      <td>Jewel</td>\n",
       "      <td>Bret Lott</td>\n",
       "    </tr>\n",
       "    <tr>\n",
       "      <th>16</th>\n",
       "      <td>7158</td>\n",
       "      <td>35662</td>\n",
       "      <td>7</td>\n",
       "      <td>Chicken Soup for the Soul (Chicken Soup for th...</td>\n",
       "      <td>Jack Canfield</td>\n",
       "    </tr>\n",
       "    <tr>\n",
       "      <th>17</th>\n",
       "      <td>7158</td>\n",
       "      <td>74320</td>\n",
       "      <td>8</td>\n",
       "      <td>From the Corner of His Eye</td>\n",
       "      <td>Dean Koontz</td>\n",
       "    </tr>\n",
       "    <tr>\n",
       "      <th>18</th>\n",
       "      <td>7158</td>\n",
       "      <td>25738</td>\n",
       "      <td>7</td>\n",
       "      <td>Black and Blue</td>\n",
       "      <td>ANNA QUINDLEN</td>\n",
       "    </tr>\n",
       "  </tbody>\n",
       "</table>\n",
       "</div>"
      ],
      "text/plain": [
       "    User-ID  Book-Code  Book-Rating  \\\n",
       "0      7158     208753           10   \n",
       "1      7158     208753           10   \n",
       "2      7158     158069            8   \n",
       "3      7158     237393            5   \n",
       "4      7158      57704            1   \n",
       "5      7158     159263            9   \n",
       "6      7158       7574            9   \n",
       "7      7158      30786            7   \n",
       "8      7158     243199            8   \n",
       "9      7158      96938           10   \n",
       "10     7158      26017            4   \n",
       "11     7158     198573           10   \n",
       "12     7158      93555            9   \n",
       "13     7158     177427            8   \n",
       "14     7158     213255            9   \n",
       "15     7158     100421            8   \n",
       "16     7158      35662            7   \n",
       "17     7158      74320            8   \n",
       "18     7158      25738            7   \n",
       "\n",
       "                                           Book-Title       Book-Author  \n",
       "0                                        The Notebook   Nicholas Sparks  \n",
       "1                                        The Notebook   Nicholas Sparks  \n",
       "2                   Roses Are Red (Alex Cross Novels)   James Patterson  \n",
       "3                                    Violets Are Blue   James Patterson  \n",
       "4                                        Dreamcatcher      Stephen King  \n",
       "5                                       SHIPPING NEWS      Annie Proulx  \n",
       "6                                  A Walk to Remember   Nicholas Sparks  \n",
       "7                            By the Light of the Moon       DEAN KOONTZ  \n",
       "8   Where the Heart Is (Oprah's Book Club (Paperba...      Billie Letts  \n",
       "9                                           Intensity       DEAN KOONTZ  \n",
       "10                                          Blessings     ANNA QUINDLEN  \n",
       "11                                       The Guardian   Nicholas Sparks  \n",
       "12                                         Icy Sparks  Gwyn Hyman Rubio  \n",
       "13                       Suzanne's Diary for Nicholas   James Patterson  \n",
       "14                                         The Rescue   Nicholas Sparks  \n",
       "15                                              Jewel         Bret Lott  \n",
       "16  Chicken Soup for the Soul (Chicken Soup for th...     Jack Canfield  \n",
       "17                         From the Corner of His Eye       Dean Koontz  \n",
       "18                                     Black and Blue     ANNA QUINDLEN  "
      ]
     },
     "execution_count": 17,
     "metadata": {},
     "output_type": "execute_result"
    }
   ],
   "source": [
    "# Ratings of picked user\n",
    "user_ratings = df.loc[df['User-ID'] == user_id]\n",
    "user_ratings = pd.merge(user_ratings, books[['Book-Code', 'Book-Title', 'Book-Author']].drop_duplicates(), on='Book-Code', how='left')\n",
    "user_ratings"
   ]
  },
  {
   "cell_type": "markdown",
   "id": "0e9ce727-b596-47ca-9f9b-6fa99765893e",
   "metadata": {},
   "source": [
    "### Calculating\n",
    "\n",
    "I input the data into a matrix and calculated it using Pearson's correlation. The recommended books are the top x books with the highest average rating among y users who have the highest degree of similarity with the target user, excluding books already read by the target user."
   ]
  },
  {
   "cell_type": "code",
   "execution_count": 18,
   "id": "761e3114-cb0d-475b-a614-5f5bd4bbedb4",
   "metadata": {
    "tags": []
   },
   "outputs": [],
   "source": [
    "# Creating the base matrix\n",
    "matrix = df.pivot_table(index='User-ID', columns='Book-Code', values='Book-Rating').astype('float32')"
   ]
  },
  {
   "cell_type": "code",
   "execution_count": 19,
   "id": "e9224379-d92a-4f2d-94c2-f1e86a3b44bf",
   "metadata": {
    "tags": []
   },
   "outputs": [],
   "source": [
    "# Normalizing the matrix with the average from each user\n",
    "matrix_norm = matrix.subtract(matrix.mean(axis=1), axis = 'rows').astype('float32')"
   ]
  },
  {
   "cell_type": "code",
   "execution_count": 20,
   "id": "fb6e2db2-8dfb-4eed-9885-94179933746a",
   "metadata": {
    "tags": []
   },
   "outputs": [],
   "source": [
    "# Creating the user similarity matrix using Pearson correlation\n",
    "user_similarity = matrix_norm.T.corr(method='pearson').astype('float32')"
   ]
  },
  {
   "cell_type": "code",
   "execution_count": 21,
   "id": "b5571e98-3bf7-4af4-870a-abc78b30040d",
   "metadata": {
    "tags": []
   },
   "outputs": [],
   "source": [
    "# Drop user data from the matrix\n",
    "user_similarity.drop(index=user_id, inplace=True)"
   ]
  },
  {
   "cell_type": "code",
   "execution_count": 22,
   "id": "28060fed-ee73-49e1-b0ba-ae4510b9e87c",
   "metadata": {
    "tags": []
   },
   "outputs": [],
   "source": [
    "# The number of results I want to be 10\n",
    "n = 10\n",
    "\n",
    "# I want to filter the similarity for at least 0.3 threshold\n",
    "user_similarity_threshold = 0.3"
   ]
  },
  {
   "cell_type": "code",
   "execution_count": 23,
   "id": "382b22ad-e554-4740-8249-cf4296b86795",
   "metadata": {
    "tags": []
   },
   "outputs": [
    {
     "name": "stdout",
     "output_type": "stream",
     "text": [
      "The similar users for user 7158 are User-ID\n",
      "6575      1.0\n",
      "174072    1.0\n",
      "197364    1.0\n",
      "196886    1.0\n",
      "196466    1.0\n",
      "192245    1.0\n",
      "192095    1.0\n",
      "181176    1.0\n",
      "170634    1.0\n",
      "138844    1.0\n",
      "Name: 7158, dtype: float32\n"
     ]
    }
   ],
   "source": [
    "# Get top n similar users\n",
    "similar_users = user_similarity[user_similarity[user_id]>user_similarity_threshold][user_id].sort_values(ascending=False)[:n]\n",
    "\n",
    "# Print out top n similar users\n",
    "print(f'The similar users for user {user_id} are', similar_users)"
   ]
  },
  {
   "cell_type": "code",
   "execution_count": 24,
   "id": "c6073fa7-503d-467f-8f3f-ddf17e43d4cf",
   "metadata": {
    "tags": []
   },
   "outputs": [],
   "source": [
    "# Books that the target user has watched\n",
    "picked_userid_readed = matrix_norm[matrix_norm.index == user_id].dropna(axis=1, how='all')"
   ]
  },
  {
   "cell_type": "code",
   "execution_count": 25,
   "id": "db73c21e-ab85-4d36-9ac1-458e255ae8d5",
   "metadata": {
    "tags": []
   },
   "outputs": [],
   "source": [
    "# Books that similar users readed. Remove books that none of the similar users have readed\n",
    "similar_user_books = matrix_norm[matrix_norm.index.isin(similar_users.index)].dropna(axis=1, how='all')"
   ]
  },
  {
   "cell_type": "code",
   "execution_count": 26,
   "id": "c1e97639-aa0c-4b88-8525-54d2e2cb20f7",
   "metadata": {
    "tags": []
   },
   "outputs": [],
   "source": [
    "# Remove the readed book from the movie list\n",
    "similar_user_books.drop(picked_userid_readed.columns,axis=1, inplace=True, errors='ignore')"
   ]
  },
  {
   "cell_type": "code",
   "execution_count": 27,
   "id": "979bb785-db21-4e38-8117-6074842c56b4",
   "metadata": {
    "tags": []
   },
   "outputs": [
    {
     "data": {
      "text/html": [
       "<div>\n",
       "<style scoped>\n",
       "    .dataframe tbody tr th:only-of-type {\n",
       "        vertical-align: middle;\n",
       "    }\n",
       "\n",
       "    .dataframe tbody tr th {\n",
       "        vertical-align: top;\n",
       "    }\n",
       "\n",
       "    .dataframe thead th {\n",
       "        text-align: right;\n",
       "    }\n",
       "</style>\n",
       "<table border=\"1\" class=\"dataframe\">\n",
       "  <thead>\n",
       "    <tr style=\"text-align: right;\">\n",
       "      <th></th>\n",
       "      <th>Book-Code</th>\n",
       "      <th>Score</th>\n",
       "      <th>Book-Title</th>\n",
       "      <th>Book-Author</th>\n",
       "    </tr>\n",
       "  </thead>\n",
       "  <tbody>\n",
       "    <tr>\n",
       "      <th>0</th>\n",
       "      <td>107712</td>\n",
       "      <td>2.052631</td>\n",
       "      <td>Lamb : The Gospel According to Biff, Christ's ...</td>\n",
       "      <td>Christopher Moore</td>\n",
       "    </tr>\n",
       "    <tr>\n",
       "      <th>1</th>\n",
       "      <td>66536</td>\n",
       "      <td>2.052631</td>\n",
       "      <td>Fahrenheit 451</td>\n",
       "      <td>RAY BRADBURY</td>\n",
       "    </tr>\n",
       "    <tr>\n",
       "      <th>2</th>\n",
       "      <td>140003</td>\n",
       "      <td>1.957627</td>\n",
       "      <td>One for the Money (A Stephanie Plum Novel)</td>\n",
       "      <td>Janet Evanovich</td>\n",
       "    </tr>\n",
       "    <tr>\n",
       "      <th>3</th>\n",
       "      <td>20513</td>\n",
       "      <td>1.957627</td>\n",
       "      <td>Balzac and the Little Chinese Seamstress : A N...</td>\n",
       "      <td>DAI SIJIE</td>\n",
       "    </tr>\n",
       "    <tr>\n",
       "      <th>4</th>\n",
       "      <td>77934</td>\n",
       "      <td>1.957627</td>\n",
       "      <td>Girl, Interrupted</td>\n",
       "      <td>SUSANNA KAYSEN</td>\n",
       "    </tr>\n",
       "    <tr>\n",
       "      <th>5</th>\n",
       "      <td>72908</td>\n",
       "      <td>1.957627</td>\n",
       "      <td>Four To Score (A Stephanie Plum Novel)</td>\n",
       "      <td>Janet Evanovich</td>\n",
       "    </tr>\n",
       "    <tr>\n",
       "      <th>6</th>\n",
       "      <td>41363</td>\n",
       "      <td>1.957627</td>\n",
       "      <td>Coraline</td>\n",
       "      <td>Neil Gaiman</td>\n",
       "    </tr>\n",
       "    <tr>\n",
       "      <th>7</th>\n",
       "      <td>229349</td>\n",
       "      <td>1.957627</td>\n",
       "      <td>To the Nines: A Stephanie Plum Novel</td>\n",
       "      <td>Janet Evanovich</td>\n",
       "    </tr>\n",
       "    <tr>\n",
       "      <th>8</th>\n",
       "      <td>233321</td>\n",
       "      <td>1.957627</td>\n",
       "      <td>Two for the Dough</td>\n",
       "      <td>Janet Evanovich</td>\n",
       "    </tr>\n",
       "    <tr>\n",
       "      <th>9</th>\n",
       "      <td>201669</td>\n",
       "      <td>1.957627</td>\n",
       "      <td>The Joy Luck Club</td>\n",
       "      <td>Amy Tan</td>\n",
       "    </tr>\n",
       "  </tbody>\n",
       "</table>\n",
       "</div>"
      ],
      "text/plain": [
       "   Book-Code     Score                                         Book-Title  \\\n",
       "0     107712  2.052631  Lamb : The Gospel According to Biff, Christ's ...   \n",
       "1      66536  2.052631                                     Fahrenheit 451   \n",
       "2     140003  1.957627         One for the Money (A Stephanie Plum Novel)   \n",
       "3      20513  1.957627  Balzac and the Little Chinese Seamstress : A N...   \n",
       "4      77934  1.957627                                  Girl, Interrupted   \n",
       "5      72908  1.957627             Four To Score (A Stephanie Plum Novel)   \n",
       "6      41363  1.957627                                           Coraline   \n",
       "7     229349  1.957627               To the Nines: A Stephanie Plum Novel   \n",
       "8     233321  1.957627                                  Two for the Dough   \n",
       "9     201669  1.957627                                  The Joy Luck Club   \n",
       "\n",
       "         Book-Author  \n",
       "0  Christopher Moore  \n",
       "1       RAY BRADBURY  \n",
       "2    Janet Evanovich  \n",
       "3          DAI SIJIE  \n",
       "4     SUSANNA KAYSEN  \n",
       "5    Janet Evanovich  \n",
       "6        Neil Gaiman  \n",
       "7    Janet Evanovich  \n",
       "8    Janet Evanovich  \n",
       "9            Amy Tan  "
      ]
     },
     "execution_count": 27,
     "metadata": {},
     "output_type": "execute_result"
    }
   ],
   "source": [
    "# A dictionary to store item scores\n",
    "item_score = {}\n",
    "\n",
    "# Loop through items\n",
    "for i in similar_user_books.columns:\n",
    "  # Get the ratings for book i\n",
    "  book_rating = similar_user_books[i]\n",
    "  # Create a variable to store the score\n",
    "  total = 0\n",
    "  # Create a variable to store the number of scores\n",
    "  count = 0\n",
    "  # Loop through similar users\n",
    "  for u in similar_users.index:\n",
    "    # If the book has rating\n",
    "    if pd.isna(book_rating[u]) == False:\n",
    "      # Score is the sum of user similarity score multiply by the book rating\n",
    "      score = similar_users[u] * book_rating[u]\n",
    "      # Add the score to the total score for the book so far\n",
    "      total += score\n",
    "      # Add 1 to the count\n",
    "      count +=1\n",
    "  # Get the average score for the item\n",
    "  item_score[i] = total / count\n",
    "\n",
    "# Convert dictionary to pandas dataframe\n",
    "item_score = pd.DataFrame(item_score.items(), columns=['Book-Code', 'Score'])\n",
    "    \n",
    "# Sort the book by score\n",
    "ranked_item_score = item_score.sort_values(by='Score', ascending=False)\n",
    "\n",
    "# Merge scores with 'books' dataframe to get additional information\n",
    "ranked_item_score = pd.merge(ranked_item_score, books[['Book-Code', 'Book-Title', 'Book-Author']].drop_duplicates(), on='Book-Code', how='left')\n",
    "\n",
    "# Select top m books\n",
    "m = 10\n",
    "ranked_item_score.head(m)"
   ]
  }
 ],
 "metadata": {
  "kernelspec": {
   "display_name": "Python 3 (ipykernel)",
   "language": "python",
   "name": "python3"
  },
  "language_info": {
   "codemirror_mode": {
    "name": "ipython",
    "version": 3
   },
   "file_extension": ".py",
   "mimetype": "text/x-python",
   "name": "python",
   "nbconvert_exporter": "python",
   "pygments_lexer": "ipython3",
   "version": "3.10.5"
  },
  "vscode": {
   "interpreter": {
    "hash": "83b6e20227666e985c08db2cf7811d0766ce62840c5f89f59d5f6281c8b3a904"
   }
  }
 },
 "nbformat": 4,
 "nbformat_minor": 5
}
