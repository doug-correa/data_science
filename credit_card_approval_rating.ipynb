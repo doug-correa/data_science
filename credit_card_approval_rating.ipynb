{
 "cells": [
  {
   "cell_type": "markdown",
   "id": "29142a12-a90a-4147-8325-14946bb5db39",
   "metadata": {},
   "source": [
    "# Avaliação de aprovação de cartão de crédito"
   ]
  },
  {
   "cell_type": "markdown",
   "id": "933b1f26-408e-4e32-ba83-5d178a4be2f6",
   "metadata": {},
   "source": [
    "O objetivo do projeto é criar um modelo de aprendizado de máquina capaz de prever se um pedido de cartão de crédito deve ser aprovado ou não com base em várias características do solicitante. \n",
    "\n",
    "As características usadas para prever a aprovação do cartão de crédito incluem informações como renda e origem da renda, gênero, nível de educação, estado civil, quantidade de filhos, tipo de moradia e se possui imóvel e/ou veículo próprio, entre outras.\n",
    "\n"
   ]
  },
  {
   "cell_type": "markdown",
   "id": "0cc7532e-9b64-42b1-900c-ad4888652672",
   "metadata": {
    "tags": []
   },
   "source": [
    "# 1. Importando bibliotecas e lendo fontes de dados"
   ]
  },
  {
   "cell_type": "code",
   "execution_count": null,
   "id": "6b2c1b59-c06e-47a5-bb2b-54d08fdbc708",
   "metadata": {
    "tags": []
   },
   "outputs": [],
   "source": [
    "import numpy as np\n",
    "import pandas as pd\n",
    "import matplotlib.pyplot as plt\n",
    "import seaborn as sns\n",
    "from sklearn.preprocessing import LabelEncoder\n",
    "from sklearn.model_selection import train_test_split\n",
    "from sklearn.preprocessing import MinMaxScaler\n",
    "from imblearn.over_sampling import SMOTE\n",
    "from sklearn.linear_model import LogisticRegression\n",
    "from sklearn.neighbors import KNeighborsClassifier\n",
    "from sklearn.svm import SVC\n",
    "from sklearn.tree import DecisionTreeClassifier\n",
    "from sklearn.ensemble import RandomForestClassifier\n",
    "from xgboost import XGBClassifier\n",
    "from sklearn.metrics import classification_report"
   ]
  },
  {
   "cell_type": "code",
   "execution_count": null,
   "id": "837bcf65-139c-4ac1-8dca-f7879cf7f0e2",
   "metadata": {
    "tags": []
   },
   "outputs": [],
   "source": [
    "application = pd.read_csv(\"datasets/application_record.csv\")\n",
    "records = pd.read_csv(\"datasets/credit_record.csv\")"
   ]
  },
  {
   "cell_type": "markdown",
   "id": "a7f24444-376b-46e5-9623-4921ff42e417",
   "metadata": {
    "tags": []
   },
   "source": [
    "# 2. Análise exploratória de dados"
   ]
  },
  {
   "cell_type": "code",
   "execution_count": null,
   "id": "83acb8d4-6876-48d9-82c1-e67208555a76",
   "metadata": {
    "tags": []
   },
   "outputs": [],
   "source": [
    "application.info()"
   ]
  },
  {
   "cell_type": "code",
   "execution_count": null,
   "id": "f0bd9a2f-5e0a-4e9c-b3c4-72ff0998f79d",
   "metadata": {
    "tags": []
   },
   "outputs": [],
   "source": [
    "records.info()"
   ]
  },
  {
   "cell_type": "code",
   "execution_count": null,
   "id": "e2aa7fd3-4172-436c-a9fa-e90a06501345",
   "metadata": {
    "tags": []
   },
   "outputs": [],
   "source": [
    "application.head(10)\n",
    "\n",
    "# CODE_GENDER >> Gênero\n",
    "# FLAG_OWN_CAR >> Possui veículo próprio\n",
    "# FLAG_OWN_REALTY >> Possui imóvel próprio\n",
    "# CNT_CHILDREN >> Quantide de filhos\n",
    "# AMT_INCOME_TOTAL >> Renda total\n",
    "# NAME_INCOME_TYPE >> Origem da renda\n",
    "# NAME_EDUCATION_TYPE >> Nível de educação\n",
    "# NAME_FAMILY_STATUS >> Estado civil\n",
    "# NAME_HOUSING_TYPE \n",
    "# DAYS_BIRTH >> Contagem regressiva de dias até a data de nascimento (-1 corresponde a ontem)\n",
    "# DAYS_EMPLOYED >> Contagem regressiva de dias até a data de nascimento. Se positivo, significa que a pessoa está desempregada pelos dias correspondentes\n",
    "# FLAG_MOBIL >> Possui telefone celular\n",
    "# FLAG_WORK_PHONE >> Possui telefone celular corporativo\n",
    "# FLAG_PHONE >> Possui telefone residencial\n",
    "# FLAG_EMAIL >> Possui e-mail\n",
    "# OCCUPATION_TYPE >> Profissão"
   ]
  },
  {
   "cell_type": "code",
   "execution_count": null,
   "id": "48281974-4578-423e-9efe-be0ca2b1f7e4",
   "metadata": {
    "tags": []
   },
   "outputs": [],
   "source": [
    "records.head()\n",
    "\n",
    "# Cada ID possui uma entrada para cada mês desde sua aplicação, contendo na coluna 'STATUS' uma flag que corresponde a um determinado intervalo de dias\n",
    "# que se passaram desde a contratação do crédito sem que houvesse pagamento\n",
    "\n",
    "# MONTHS_BALANCE >> Contagem regressiva de meses desde a aplicação (-1 corresponde ao mês passado)\n",
    "# STATUS >>\n",
    "    # 0: 1-29 dias\n",
    "    # 1: 30-59 dias\n",
    "    # 2: 60-89 dias\n",
    "    # 3: 90-119 dias\n",
    "    # 4: 120-149 diasa\n",
    "    # 5: Mais de 150 \n",
    "    # C: Pago naquele mês\n",
    "    # X: Sem debitos naquele mês"
   ]
  },
  {
   "cell_type": "markdown",
   "id": "2c8a4d32-714f-4c49-9d99-2e1ad7ced94f",
   "metadata": {
    "tags": []
   },
   "source": [
    "# 3. Transformação dos dados"
   ]
  },
  {
   "cell_type": "code",
   "execution_count": null,
   "id": "c1dac67b-73ae-42d3-963a-7d7c4f6516a7",
   "metadata": {
    "tags": []
   },
   "outputs": [],
   "source": [
    "application['ID'].nunique() # Total de IDs únicos em \"Applications\" difere do total de linhas, ou seja, há dados duplicados"
   ]
  },
  {
   "cell_type": "code",
   "execution_count": null,
   "id": "084d23fd-713c-450e-85a2-4c221606ecc1",
   "metadata": {
    "tags": []
   },
   "outputs": [],
   "source": [
    "application = application.drop_duplicates('ID', keep='last') # Eliminando dados duplicados, mantendo sempre o dado que aparece por último"
   ]
  },
  {
   "cell_type": "code",
   "execution_count": null,
   "id": "ebf774c1-bce8-42aa-bc88-ffe6cd2b79b1",
   "metadata": {
    "tags": []
   },
   "outputs": [],
   "source": [
    "sns.heatmap(application.isnull()) # Verificando colunas com ocorrências de dados nulos em \"Applications\""
   ]
  },
  {
   "cell_type": "code",
   "execution_count": null,
   "id": "9bf64211-3aef-48b5-a258-ca0cd2db3554",
   "metadata": {
    "tags": []
   },
   "outputs": [],
   "source": [
    "sns.heatmap(records.isnull()) # Verificando colunas com ocorrências de dados nulos em \"Records\""
   ]
  },
  {
   "cell_type": "code",
   "execution_count": null,
   "id": "44b2ab75-c471-4e90-b0fb-522f51354eb2",
   "metadata": {
    "tags": []
   },
   "outputs": [],
   "source": [
    "application.drop(['OCCUPATION_TYPE'], axis=1, inplace=True) # Eliminando coluna 'OCCUPATION_TYPE' que possui entradas com valores nulos"
   ]
  },
  {
   "cell_type": "code",
   "execution_count": null,
   "id": "c3c8c0ef-fe8b-4546-8e86-818b3e7d7806",
   "metadata": {
    "tags": []
   },
   "outputs": [],
   "source": [
    "le = LabelEncoder()\n",
    "for x in application:\n",
    "    if application[x].dtypes=='object':\n",
    "        application[x] = le.fit_transform(application[x])\n",
    "        \n",
    "# Transformando dados não numéricos em numéricos"
   ]
  },
  {
   "cell_type": "code",
   "execution_count": null,
   "id": "db7d03f5-bace-45f8-be95-e1b51b8207c9",
   "metadata": {
    "tags": []
   },
   "outputs": [],
   "source": [
    "fig, ax= plt.subplots(nrows= 3, ncols = 3, figsize= (14,6))\n",
    "\n",
    "sns.scatterplot(x='ID', y='CNT_CHILDREN', data=application, ax=ax[0][0], color= 'red')\n",
    "sns.scatterplot(x='ID', y='AMT_INCOME_TOTAL', data=application, ax=ax[0][1], color='red')\n",
    "sns.scatterplot(x='ID', y='DAYS_BIRTH', data=application, ax=ax[0][2])\n",
    "sns.scatterplot(x='ID', y='DAYS_EMPLOYED', data=application, ax=ax[1][0])\n",
    "sns.scatterplot(x='ID', y='FLAG_MOBIL', data=application, ax=ax[1][1])\n",
    "sns.scatterplot(x='ID', y='FLAG_WORK_PHONE', data=application, ax=ax[1][2])\n",
    "sns.scatterplot(x='ID', y='FLAG_PHONE', data=application, ax=ax[2][0])\n",
    "sns.scatterplot(x='ID', y='FLAG_EMAIL', data=application, ax=ax[2][1])\n",
    "sns.scatterplot(x='ID', y='CNT_FAM_MEMBERS', data=application, ax=ax[2][2], color= 'red')\n",
    "\n",
    "# Verificando outliers (em vermelho as colunas com ocorrências de outliers)"
   ]
  },
  {
   "cell_type": "code",
   "execution_count": null,
   "id": "75ae3a70-68cf-45a1-9793-1cb88651b6ee",
   "metadata": {
    "tags": []
   },
   "outputs": [],
   "source": [
    "out_max = application['CNT_CHILDREN'].quantile(0.999)\n",
    "out_min = application['CNT_CHILDREN'].quantile(0.001)\n",
    "application = application[(application['CNT_CHILDREN']>out_min) & (application['CNT_CHILDREN']<out_max)]\n",
    "\n",
    "# Eliminando outliers em \"CNT_CHILDREN\""
   ]
  },
  {
   "cell_type": "code",
   "execution_count": null,
   "id": "5df11c47-c63a-4155-b2f9-d589949a302e",
   "metadata": {
    "tags": []
   },
   "outputs": [],
   "source": [
    "out_max = application['AMT_INCOME_TOTAL'].quantile(0.999)\n",
    "out_min = application['AMT_INCOME_TOTAL'].quantile(0.001)\n",
    "application = application[(application['AMT_INCOME_TOTAL']>out_min) & (application['AMT_INCOME_TOTAL']<out_max)]\n",
    "\n",
    "# Eliminando outliers em \"AMT_INCOME_TOTAL\""
   ]
  },
  {
   "cell_type": "code",
   "execution_count": null,
   "id": "3cc1ccc1-865c-46b9-a503-78ff3c6bb50a",
   "metadata": {
    "tags": []
   },
   "outputs": [],
   "source": [
    "out_max = application['CNT_FAM_MEMBERS'].quantile(0.999)\n",
    "out_min = application['CNT_FAM_MEMBERS'].quantile(0.001)\n",
    "application = application[(application['CNT_FAM_MEMBERS']>out_min) & (application['CNT_CHILDREN']<out_max)]\n",
    "\n",
    "# Eliminando outliers em \"CNT_FAM_MEMBERS\""
   ]
  },
  {
   "cell_type": "code",
   "execution_count": null,
   "id": "b02d472e-2331-4ac7-b304-febc27d68ce1",
   "metadata": {
    "tags": []
   },
   "outputs": [],
   "source": [
    "fig, ax= plt.subplots(nrows= 3, ncols = 3, figsize= (14,6))\n",
    "\n",
    "sns.scatterplot(x='ID', y='CNT_CHILDREN', data=application, ax=ax[0][0], color= 'green')\n",
    "sns.scatterplot(x='ID', y='AMT_INCOME_TOTAL', data=application, ax=ax[0][1], color='green')\n",
    "sns.scatterplot(x='ID', y='DAYS_BIRTH', data=application, ax=ax[0][2])\n",
    "sns.scatterplot(x='ID', y='DAYS_EMPLOYED', data=application, ax=ax[1][0])\n",
    "sns.scatterplot(x='ID', y='FLAG_MOBIL', data=application, ax=ax[1][1])\n",
    "sns.scatterplot(x='ID', y='FLAG_WORK_PHONE', data=application, ax=ax[1][2])\n",
    "sns.scatterplot(x='ID', y='FLAG_PHONE', data=application, ax=ax[2][0])\n",
    "sns.scatterplot(x='ID', y='FLAG_EMAIL', data=application, ax=ax[2][1])\n",
    "sns.scatterplot(x='ID', y='CNT_FAM_MEMBERS', data=application, ax=ax[2][2], color= 'green')\n",
    "\n",
    "# Dados após eliminação dos outliers"
   ]
  },
  {
   "cell_type": "code",
   "execution_count": null,
   "id": "765d8295-4005-48a4-b3ed-d09ca5cf78bf",
   "metadata": {
    "tags": []
   },
   "outputs": [],
   "source": [
    "records['STATUS'].replace({'C': 0, 'X' : 0}, inplace=True)\n",
    "records['STATUS'] = records['STATUS'].astype('int')\n",
    "records['STATUS'] = records['STATUS'].apply(lambda x:1 if x >= 2 else 0)\n",
    "records = records.groupby('ID').agg(max).reset_index()\n",
    "\n",
    "# Substituindo valores \"C\" e \"X\" da coluna \"STATUS\" por 0, pois possuem a mesma equivalência (estão em dia)\n",
    "# Aplicando regra de corte para valores com \"STATUS\" maior que 2, ou seja, mais de 60 dias em atraso\n",
    "# Mantendo apenas um registro por ID, constando um status que apresenta o máximo de dias que este ID esteve inadimplente"
   ]
  },
  {
   "cell_type": "code",
   "execution_count": null,
   "id": "24d62555-4d04-448c-8566-89afb694605a",
   "metadata": {
    "tags": []
   },
   "outputs": [],
   "source": [
    "application.head(10)"
   ]
  },
  {
   "cell_type": "code",
   "execution_count": null,
   "id": "8d629ffe-0cad-4a8e-8271-c6a5d79326cd",
   "metadata": {
    "tags": []
   },
   "outputs": [],
   "source": [
    "records.head(10)"
   ]
  },
  {
   "cell_type": "code",
   "execution_count": null,
   "id": "8a449ba4-fa0c-43f0-9c71-92b9d0676f22",
   "metadata": {
    "tags": []
   },
   "outputs": [],
   "source": [
    "len(records) # Total de linhas em \"Records\""
   ]
  },
  {
   "cell_type": "code",
   "execution_count": null,
   "id": "f9fc310b-8762-44d3-b2fd-1addc176251e",
   "metadata": {
    "tags": []
   },
   "outputs": [],
   "source": [
    "len(application) # Total de linhas em \"Application\""
   ]
  },
  {
   "cell_type": "code",
   "execution_count": null,
   "id": "8641d61d-489f-4c82-bcbc-b2e3d455e9e5",
   "metadata": {
    "tags": []
   },
   "outputs": [],
   "source": [
    "df = application.join(records.set_index('ID'), on='ID', how='inner')\n",
    "df.drop(['MONTHS_BALANCE'], axis=1, inplace=True)\n",
    "\n",
    "# Juntando \"Application\" com \"Records\" em um novo dataframe"
   ]
  },
  {
   "cell_type": "code",
   "execution_count": null,
   "id": "a776d38a-37c6-4171-bda6-0f82523de4dc",
   "metadata": {
    "tags": []
   },
   "outputs": [],
   "source": [
    "df.head(10)"
   ]
  },
  {
   "cell_type": "code",
   "execution_count": null,
   "id": "59139a82-4734-4a52-bbd1-03c738a5663e",
   "metadata": {
    "tags": []
   },
   "outputs": [],
   "source": [
    "len(df)  # Total de linhas do novo dataframe"
   ]
  },
  {
   "cell_type": "code",
   "execution_count": null,
   "id": "75592647-eb82-4f2c-8ffa-da1519517869",
   "metadata": {
    "tags": []
   },
   "outputs": [],
   "source": [
    "df['STATUS'].value_counts(normalize=True) # Verificando se há superamostragem"
   ]
  },
  {
   "cell_type": "markdown",
   "id": "969a7963-8fd9-4614-a59e-c924c0ca1b4c",
   "metadata": {},
   "source": [
    "# 4. Desenvolvendo o modelo"
   ]
  },
  {
   "cell_type": "code",
   "execution_count": null,
   "id": "aed1bc68-af0d-4eb6-831f-388a9df5e0da",
   "metadata": {
    "tags": []
   },
   "outputs": [],
   "source": [
    "x = df.iloc[:,1:-1] # Colunas exceto as de classificação\n",
    "y = df.iloc[:,-1] # Colunas de classificação"
   ]
  },
  {
   "cell_type": "code",
   "execution_count": null,
   "id": "280dbd15-7dcd-406c-9535-221d80792627",
   "metadata": {
    "tags": []
   },
   "outputs": [],
   "source": [
    "x_train, x_test, y_train, y_test = train_test_split(x, y, test_size=0.3) # Dividindo os dados entre teste e treino"
   ]
  },
  {
   "cell_type": "code",
   "execution_count": null,
   "id": "ac197a4d-015c-4bdb-bbd5-6ccb5ec37347",
   "metadata": {
    "tags": []
   },
   "outputs": [],
   "source": [
    "mms = MinMaxScaler()\n",
    "x_scaled = pd.DataFrame(mms.fit_transform(x_train), columns=x_train.columns)\n",
    "x_test_scaled = pd.DataFrame(mms.transform(x_test), columns=x_test.columns)\n",
    "\n",
    "# Escalando dados para um resultado mais acurado"
   ]
  },
  {
   "cell_type": "code",
   "execution_count": null,
   "id": "6a2431ac-6930-41bb-b3c3-65c1cbac8d63",
   "metadata": {
    "tags": []
   },
   "outputs": [],
   "source": [
    "oversample = SMOTE()\n",
    "x_balanced, y_balanced = oversample.fit_resample(x_scaled, y_train)\n",
    "x_test_balanced, y_test_balanced = oversample.fit_resample(x_test_scaled, y_test)\n",
    "\n",
    "# Lidando com o problema de superamostragem"
   ]
  },
  {
   "cell_type": "code",
   "execution_count": null,
   "id": "7d1406bb-ae0f-441a-bebb-9d78491b85c9",
   "metadata": {
    "tags": []
   },
   "outputs": [],
   "source": [
    "classifiers = {\n",
    "    \"LogisticRegression\" : LogisticRegression(),\n",
    "    \"KNeighbors\" : KNeighborsClassifier(),\n",
    "    \"SVC\" : SVC(),\n",
    "    \"DecisionTree\" : DecisionTreeClassifier(),\n",
    "    \"RandomForest\" : RandomForestClassifier(),\n",
    "    \"XGBoost\" : XGBClassifier()\n",
    "}\n",
    "\n",
    "# Definindo modelos a serem testados"
   ]
  },
  {
   "cell_type": "code",
   "execution_count": null,
   "id": "30567c50-cb71-48bd-91f1-7838f415ff70",
   "metadata": {
    "tags": []
   },
   "outputs": [],
   "source": [
    "train_scores = []\n",
    "test_scores = []\n",
    "\n",
    "for key, classifier in classifiers.items():\n",
    "    classifier.fit(x_balanced, y_balanced)\n",
    "    train_score = classifier.score(x_balanced, y_balanced)\n",
    "    train_scores.append(train_score)\n",
    "    test_score = classifier.score(x_test_balanced, y_test_balanced)\n",
    "    test_scores.append(test_score)\n",
    "\n",
    "print(train_scores)\n",
    "print(test_scores)\n",
    "\n",
    "# Executando os modelos e verificando acurácia"
   ]
  },
  {
   "cell_type": "code",
   "execution_count": null,
   "id": "6811277c-32d1-415f-83c1-8ec31adebf34",
   "metadata": {
    "tags": []
   },
   "outputs": [],
   "source": [
    "xgb = XGBClassifier()\n",
    "model = xgb.fit(x_balanced, y_balanced)\n",
    "prediction = xgb.predict(x_test_balanced)\n",
    "\n",
    "# Escolhendo o melhor modelo = XGBoost"
   ]
  },
  {
   "cell_type": "code",
   "execution_count": null,
   "id": "1a16bdfe-3ce9-4703-82b8-1c36349fc66a",
   "metadata": {
    "tags": []
   },
   "outputs": [],
   "source": [
    "print(classification_report(y_test_balanced, prediction))\n",
    "\n",
    "# Resultado do modelo"
   ]
  },
  {
   "cell_type": "markdown",
   "id": "0bd1b829-123a-410c-83c0-eb481cb0189b",
   "metadata": {},
   "source": [
    "# Conclusão"
   ]
  },
  {
   "cell_type": "markdown",
   "id": "a94a9cfb-5379-402f-a7aa-56f0bf540d29",
   "metadata": {},
   "source": [
    "Após testes, concluiu-se que o modelo XGBoost obteve melhor acurácia.\n",
    "\n",
    "Entendeu-se e definiu-se que o modelo basearia-se nas aplicações que ficaram, pelo menos uma vez, inadimplentes com mais de 60 dias de atraso para reprovar a análise de crédito."
   ]
  }
 ],
 "metadata": {
  "kernelspec": {
   "display_name": "Python 3 (ipykernel)",
   "language": "python",
   "name": "python3"
  },
  "language_info": {
   "codemirror_mode": {
    "name": "ipython",
    "version": 3
   },
   "file_extension": ".py",
   "mimetype": "text/x-python",
   "name": "python",
   "nbconvert_exporter": "python",
   "pygments_lexer": "ipython3",
   "version": "3.10.5"
  }
 },
 "nbformat": 4,
 "nbformat_minor": 5
}
